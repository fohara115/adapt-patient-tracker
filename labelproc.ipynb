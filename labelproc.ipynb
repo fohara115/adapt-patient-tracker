{
 "cells": [
  {
   "cell_type": "code",
   "execution_count": 1,
   "metadata": {},
   "outputs": [],
   "source": [
    "import pandas as pd"
   ]
  },
  {
   "cell_type": "code",
   "execution_count": 11,
   "metadata": {},
   "outputs": [],
   "source": [
    "a = pd.read_csv('labels/20231201_152420_label1.txt', sep=',', names=[\"idx\", \"x_coord\", \"y_coord\"])"
   ]
  },
  {
   "cell_type": "code",
   "execution_count": 12,
   "metadata": {},
   "outputs": [
    {
     "name": "stdout",
     "output_type": "stream",
     "text": [
      "       idx  x_coord  y_coord\n",
      "0        1    322.0    478.0\n",
      "1        2    322.0    474.0\n",
      "2        3    322.0    471.0\n",
      "3        4    323.0    470.0\n",
      "4        5    324.0    470.0\n",
      "...    ...      ...      ...\n",
      "3608  3609    337.0    436.0\n",
      "3609  3610    338.0    436.0\n",
      "3610  3611    339.0    437.0\n",
      "3611  3612    339.0    437.0\n",
      "3612  3613    339.0    437.0\n",
      "\n",
      "[3613 rows x 3 columns]\n"
     ]
    }
   ],
   "source": [
    "# Step 1: Remove duplicates based on 'frame_indices'\n",
    "df = a.drop_duplicates(subset='idx', keep='first')\n",
    "\n",
    "# Step 2: Sort the DataFrame by 'frame_indices'\n",
    "df = df.sort_values(by='idx')\n",
    "\n",
    "# Step 3: Interpolate missing 'frame_indices' using linear method\n",
    "df = df.set_index('idx')\n",
    "df = df.reindex(range(df.index.min(), df.index.max() + 1))\n",
    "df['x_coord'] = round(df['x_coord'].interpolate(method='linear'))\n",
    "df['y_coord'] = round(df['y_coord'].interpolate(method='linear'))\n",
    "\n",
    "# Reset the index to 'frame_indices'\n",
    "df = df.reset_index()\n",
    "\n",
    "print(df)"
   ]
  },
  {
   "cell_type": "code",
   "execution_count": 13,
   "metadata": {},
   "outputs": [],
   "source": [
    "df.to_csv('proc_labels/20231201_152420.csv')"
   ]
  },
  {
   "cell_type": "code",
   "execution_count": null,
   "metadata": {},
   "outputs": [],
   "source": []
  }
 ],
 "metadata": {
  "kernelspec": {
   "display_name": "Python 3",
   "language": "python",
   "name": "python3"
  },
  "language_info": {
   "codemirror_mode": {
    "name": "ipython",
    "version": 3
   },
   "file_extension": ".py",
   "mimetype": "text/x-python",
   "name": "python",
   "nbconvert_exporter": "python",
   "pygments_lexer": "ipython3",
   "version": "3.11.1"
  }
 },
 "nbformat": 4,
 "nbformat_minor": 2
}
