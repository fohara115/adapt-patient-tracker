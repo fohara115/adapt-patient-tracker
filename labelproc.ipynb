{
 "cells": [
  {
   "cell_type": "code",
   "execution_count": 1,
   "metadata": {},
   "outputs": [],
   "source": [
    "import pandas as pd"
   ]
  },
  {
   "cell_type": "code",
   "execution_count": 5,
   "metadata": {},
   "outputs": [],
   "source": [
    "a = pd.read_csv('labels/20231124_164709_label1.txt', sep=',', names=[\"idx\", \"x_coord\", \"y_coord\"])"
   ]
  },
  {
   "cell_type": "code",
   "execution_count": 6,
   "metadata": {},
   "outputs": [
    {
     "name": "stdout",
     "output_type": "stream",
     "text": [
      "       idx  x_coord  y_coord\n",
      "0        3    352.0    468.0\n",
      "1        4    352.0    466.0\n",
      "2        5    352.0    463.0\n",
      "3        6    352.0    460.0\n",
      "4        7    352.0    458.0\n",
      "...    ...      ...      ...\n",
      "6492  6495     15.0    362.0\n",
      "6493  6496     16.0    362.0\n",
      "6494  6497     17.0    362.0\n",
      "6495  6498     17.0    362.0\n",
      "6496  6499     17.0    362.0\n",
      "\n",
      "[6497 rows x 3 columns]\n"
     ]
    }
   ],
   "source": [
    "# Step 1: Remove duplicates based on 'frame_indices'\n",
    "df = a.drop_duplicates(subset='idx', keep='first')\n",
    "\n",
    "# Step 2: Sort the DataFrame by 'frame_indices'\n",
    "df = df.sort_values(by='idx')\n",
    "\n",
    "# Step 3: Interpolate missing 'frame_indices' using linear method\n",
    "df = df.set_index('idx')\n",
    "df = df.reindex(range(df.index.min(), df.index.max() + 1))\n",
    "df['x_coord'] = round(df['x_coord'].interpolate(method='linear'))\n",
    "df['y_coord'] = round(df['y_coord'].interpolate(method='linear'))\n",
    "\n",
    "# Reset the index to 'frame_indices'\n",
    "df = df.reset_index()\n",
    "\n",
    "print(df)"
   ]
  },
  {
   "cell_type": "code",
   "execution_count": 7,
   "metadata": {},
   "outputs": [],
   "source": [
    "df.to_csv('proc_labels/20231124_163447.csv')"
   ]
  },
  {
   "cell_type": "code",
   "execution_count": null,
   "metadata": {},
   "outputs": [],
   "source": []
  }
 ],
 "metadata": {
  "kernelspec": {
   "display_name": "Python 3",
   "language": "python",
   "name": "python3"
  },
  "language_info": {
   "codemirror_mode": {
    "name": "ipython",
    "version": 3
   },
   "file_extension": ".py",
   "mimetype": "text/x-python",
   "name": "python",
   "nbconvert_exporter": "python",
   "pygments_lexer": "ipython3",
   "version": "3.11.1"
  }
 },
 "nbformat": 4,
 "nbformat_minor": 2
}
