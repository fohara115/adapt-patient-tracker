{
 "cells": [
  {
   "cell_type": "markdown",
   "metadata": {},
   "source": [
    "## Analysis of Labels Versus Tracker Outputs\n",
    "\n",
    "Feb 4\n",
    "\n",
    "Very messy way of analyzing text files.\n",
    "\n",
    "Heavy gpt use."
   ]
  },
  {
   "cell_type": "markdown",
   "metadata": {},
   "source": [
    "### 1. Setup"
   ]
  },
  {
   "cell_type": "code",
   "execution_count": 2,
   "metadata": {},
   "outputs": [],
   "source": [
    "import os\n",
    "import pandas as pd\n",
    "import numpy as np\n",
    "import matplotlib.pyplot as plt\n",
    "from scipy.interpolate import interp1d"
   ]
  },
  {
   "cell_type": "code",
   "execution_count": 3,
   "metadata": {},
   "outputs": [],
   "source": [
    "# Configure analysis\n",
    "\n",
    "root = 'D:/bme/'\n",
    "labels_dir = 'labels/coords_M19/'\n",
    "logs_dir = 'logs/M19/'\n",
    "temp_dir = 'labels/adj_19/'\n",
    "\n",
    "ERR_THRESH = 50"
   ]
  },
  {
   "cell_type": "code",
   "execution_count": 4,
   "metadata": {},
   "outputs": [],
   "source": [
    "def replace_in_file(file_path, out_file_path):\n",
    "    \"\"\"\n",
    "    Searches for 'search_text' in the specified file and replaces it with 'new_text'.\n",
    "    Writes the modified content back to the same file.\n",
    "    \n",
    "    Args:\n",
    "        file_path (str): Path to the input text file.\n",
    "        search_text (str): The text to search for.\n",
    "        new_text (str): The replacement text.\n",
    "    \"\"\"\n",
    "    with open(file_path, 'r') as file:\n",
    "        filedata = file.read()\n",
    "        modified_data = filedata.replace(' ', ',')\n",
    "\n",
    "    with open(out_file_path, 'w') as file:\n",
    "        file.write(modified_data)\n"
   ]
  },
  {
   "cell_type": "code",
   "execution_count": 5,
   "metadata": {},
   "outputs": [],
   "source": [
    "# Intermediate\n",
    "for filename in os.listdir(root + logs_dir):\n",
    "    if filename.endswith(\".bag\"): \n",
    "        file_path = os.path.join(root + logs_dir, filename)\n",
    "        replace_in_file(file_path, os.path.join(root + temp_dir, filename))"
   ]
  },
  {
   "cell_type": "code",
   "execution_count": 22,
   "metadata": {},
   "outputs": [
    {
     "name": "stderr",
     "output_type": "stream",
     "text": [
      "C:\\Users\\finno\\AppData\\Local\\Temp\\ipykernel_46800\\1672521888.py:12: FutureWarning: The frame.append method is deprecated and will be removed from pandas in a future version. Use pandas.concat instead.\n",
      "  labels_df = labels_df.append(current_df, ignore_index=True)\n",
      "C:\\Users\\finno\\AppData\\Local\\Temp\\ipykernel_46800\\1672521888.py:12: FutureWarning: The frame.append method is deprecated and will be removed from pandas in a future version. Use pandas.concat instead.\n",
      "  labels_df = labels_df.append(current_df, ignore_index=True)\n",
      "C:\\Users\\finno\\AppData\\Local\\Temp\\ipykernel_46800\\1672521888.py:12: FutureWarning: The frame.append method is deprecated and will be removed from pandas in a future version. Use pandas.concat instead.\n",
      "  labels_df = labels_df.append(current_df, ignore_index=True)\n",
      "C:\\Users\\finno\\AppData\\Local\\Temp\\ipykernel_46800\\1672521888.py:12: FutureWarning: The frame.append method is deprecated and will be removed from pandas in a future version. Use pandas.concat instead.\n",
      "  labels_df = labels_df.append(current_df, ignore_index=True)\n",
      "C:\\Users\\finno\\AppData\\Local\\Temp\\ipykernel_46800\\1672521888.py:12: FutureWarning: The frame.append method is deprecated and will be removed from pandas in a future version. Use pandas.concat instead.\n",
      "  labels_df = labels_df.append(current_df, ignore_index=True)\n",
      "C:\\Users\\finno\\AppData\\Local\\Temp\\ipykernel_46800\\1672521888.py:12: FutureWarning: The frame.append method is deprecated and will be removed from pandas in a future version. Use pandas.concat instead.\n",
      "  labels_df = labels_df.append(current_df, ignore_index=True)\n",
      "C:\\Users\\finno\\AppData\\Local\\Temp\\ipykernel_46800\\1672521888.py:12: FutureWarning: The frame.append method is deprecated and will be removed from pandas in a future version. Use pandas.concat instead.\n",
      "  labels_df = labels_df.append(current_df, ignore_index=True)\n",
      "C:\\Users\\finno\\AppData\\Local\\Temp\\ipykernel_46800\\1672521888.py:12: FutureWarning: The frame.append method is deprecated and will be removed from pandas in a future version. Use pandas.concat instead.\n",
      "  labels_df = labels_df.append(current_df, ignore_index=True)\n",
      "C:\\Users\\finno\\AppData\\Local\\Temp\\ipykernel_46800\\1672521888.py:12: FutureWarning: The frame.append method is deprecated and will be removed from pandas in a future version. Use pandas.concat instead.\n",
      "  labels_df = labels_df.append(current_df, ignore_index=True)\n",
      "C:\\Users\\finno\\AppData\\Local\\Temp\\ipykernel_46800\\1672521888.py:12: FutureWarning: The frame.append method is deprecated and will be removed from pandas in a future version. Use pandas.concat instead.\n",
      "  labels_df = labels_df.append(current_df, ignore_index=True)\n",
      "C:\\Users\\finno\\AppData\\Local\\Temp\\ipykernel_46800\\1672521888.py:27: FutureWarning: The frame.append method is deprecated and will be removed from pandas in a future version. Use pandas.concat instead.\n",
      "  logs_df = logs_df.append(current_df, ignore_index=True)\n",
      "C:\\Users\\finno\\AppData\\Local\\Temp\\ipykernel_46800\\1672521888.py:27: FutureWarning: The frame.append method is deprecated and will be removed from pandas in a future version. Use pandas.concat instead.\n",
      "  logs_df = logs_df.append(current_df, ignore_index=True)\n",
      "C:\\Users\\finno\\AppData\\Local\\Temp\\ipykernel_46800\\1672521888.py:27: FutureWarning: The frame.append method is deprecated and will be removed from pandas in a future version. Use pandas.concat instead.\n",
      "  logs_df = logs_df.append(current_df, ignore_index=True)\n",
      "C:\\Users\\finno\\AppData\\Local\\Temp\\ipykernel_46800\\1672521888.py:27: FutureWarning: The frame.append method is deprecated and will be removed from pandas in a future version. Use pandas.concat instead.\n",
      "  logs_df = logs_df.append(current_df, ignore_index=True)\n",
      "C:\\Users\\finno\\AppData\\Local\\Temp\\ipykernel_46800\\1672521888.py:27: FutureWarning: The frame.append method is deprecated and will be removed from pandas in a future version. Use pandas.concat instead.\n",
      "  logs_df = logs_df.append(current_df, ignore_index=True)\n",
      "C:\\Users\\finno\\AppData\\Local\\Temp\\ipykernel_46800\\1672521888.py:27: FutureWarning: The frame.append method is deprecated and will be removed from pandas in a future version. Use pandas.concat instead.\n",
      "  logs_df = logs_df.append(current_df, ignore_index=True)\n",
      "C:\\Users\\finno\\AppData\\Local\\Temp\\ipykernel_46800\\1672521888.py:27: FutureWarning: The frame.append method is deprecated and will be removed from pandas in a future version. Use pandas.concat instead.\n",
      "  logs_df = logs_df.append(current_df, ignore_index=True)\n",
      "C:\\Users\\finno\\AppData\\Local\\Temp\\ipykernel_46800\\1672521888.py:27: FutureWarning: The frame.append method is deprecated and will be removed from pandas in a future version. Use pandas.concat instead.\n",
      "  logs_df = logs_df.append(current_df, ignore_index=True)\n",
      "C:\\Users\\finno\\AppData\\Local\\Temp\\ipykernel_46800\\1672521888.py:27: FutureWarning: The frame.append method is deprecated and will be removed from pandas in a future version. Use pandas.concat instead.\n",
      "  logs_df = logs_df.append(current_df, ignore_index=True)\n",
      "C:\\Users\\finno\\AppData\\Local\\Temp\\ipykernel_46800\\1672521888.py:27: FutureWarning: The frame.append method is deprecated and will be removed from pandas in a future version. Use pandas.concat instead.\n",
      "  logs_df = logs_df.append(current_df, ignore_index=True)\n"
     ]
    }
   ],
   "source": [
    "# Load coordinates into pandas\n",
    "\n",
    "labels_df = pd.DataFrame()\n",
    "\n",
    "for filename in os.listdir(root + labels_dir):\n",
    "    if filename.endswith(\".txt\"): \n",
    "        file_path = os.path.join(root + labels_dir, filename)\n",
    "        \n",
    "        current_df = pd.read_csv(file_path, skiprows=1, header=None, names=['t', 'x', 'y', 'd'])\n",
    "        current_df['date'] = filename[6:-4]\n",
    "        \n",
    "        labels_df = labels_df.append(current_df, ignore_index=True)\n",
    "labels_df['t'] = pd.to_numeric(labels_df['t'], errors='coerce')\n",
    "labels_df['x'] = pd.to_numeric(labels_df['x'], errors='coerce')\n",
    "labels_df['y'] = pd.to_numeric(labels_df['y'], errors='coerce')\n",
    "labels_df['d'] = pd.to_numeric(labels_df['d'], errors='coerce')\n",
    "\n",
    "\n",
    "logs_df = pd.DataFrame()\n",
    "for filename in os.listdir(root + temp_dir):\n",
    "    if filename.endswith(\".bag\"): \n",
    "        file_path = os.path.join(root + temp_dir, filename)\n",
    "        \n",
    "        current_df = pd.read_csv(file_path, skiprows=1, header=None, names=['t', 'a', 'b', 'c', 'd', 'e', 'b1', 'b2', 'b3', 'b4', 'b5', 'b6', 'b7', 'b8', 'b9', 'b10'])\n",
    "        current_df['date'] = filename[8:-4]\n",
    "        \n",
    "        logs_df = logs_df.append(current_df, ignore_index=True)\n",
    "logs_df['t'] = pd.to_numeric(logs_df['t'], errors='coerce')\n",
    "#logs_df['x'] = pd.to_numeric(logs_df['x'], errors='coerce')\n",
    "#logs_df['y'] = pd.to_numeric(logs_df['y'], errors='coerce')\n",
    "#logs_df['d'] = pd.to_numeric(logs_df['d'], errors='coerce')"
   ]
  },
  {
   "cell_type": "code",
   "execution_count": 23,
   "metadata": {},
   "outputs": [],
   "source": [
    "# Set '[' elements to empty\n",
    "\n",
    "logs_df.replace('[', np.nan, inplace=True)\n",
    "logs_df.replace(']', np.nan, inplace=True)"
   ]
  },
  {
   "cell_type": "code",
   "execution_count": 26,
   "metadata": {},
   "outputs": [],
   "source": [
    "columns_to_align = ['b1', 'b2', 'b3', 'b4', 'b5', 'b6', 'b7', 'b8', 'b9', 'b10']\n",
    "\n",
    "# Function to process each row\n",
    "def custom_shift(row):\n",
    "    # Convert the row to a list for easier manipulation\n",
    "    values = row[columns_to_align].tolist()\n",
    "    new_values = [np.nan] * len(values)  # Initialize with empty values\n",
    "    \n",
    "    for i in range(len(values)):\n",
    "        if not pd.isna(values[i]):  # If the value is not NaN, shift it to the leftmost available position\n",
    "            for j in range(len(new_values)):\n",
    "                if pd.isna(new_values[j]):  # Find the first available position\n",
    "                    new_values[j] = values[i]  # Move the value to this position\n",
    "                    break  # Move to the next value in the original row\n",
    "                    \n",
    "    return pd.Series(new_values, index=columns_to_align)\n",
    "\n",
    "# Apply the transformation\n",
    "logs_df[columns_to_align] = logs_df.apply(custom_shift, axis=1)\n"
   ]
  },
  {
   "cell_type": "code",
   "execution_count": 28,
   "metadata": {},
   "outputs": [
    {
     "name": "stdout",
     "output_type": "stream",
     "text": [
      "(5523, 17)\n",
      "(5523, 17)\n"
     ]
    }
   ],
   "source": [
    "# Apply simple preprocessing\n",
    "logs_pdf = logs_df[logs_df['date'] != '20231027_140520']\n",
    "labels_pdf = labels_df[labels_df['date'] != '20231027_140520']\n",
    "print(logs_df.shape)\n",
    "print(logs_pdf.shape)"
   ]
  },
  {
   "cell_type": "code",
   "execution_count": 29,
   "metadata": {},
   "outputs": [],
   "source": [
    "logs_pdf['b5'] = logs_pdf.b1.apply(lambda x: str(x)[1:] if ((str(x)[0]=='(') or (str(x)[0]=='[')) else x)\n",
    "logs_pdf['b6'] = logs_pdf.b4.apply(lambda x: str(x)[:-1] if ((str(x)[-1]==']') or (str(x)[-1]==')')) else x)"
   ]
  },
  {
   "cell_type": "code",
   "execution_count": 30,
   "metadata": {},
   "outputs": [],
   "source": [
    "logs_pdf = logs_pdf[logs_pdf.b==0]"
   ]
  },
  {
   "cell_type": "code",
   "execution_count": 31,
   "metadata": {},
   "outputs": [],
   "source": [
    "logs_pdf['x'] = (logs_pdf.b5.astype(int) + logs_pdf.b3.astype(int))//2\n",
    "logs_pdf['y'] = (logs_pdf.b2.astype(int) + logs_pdf.b6.astype(int))//2"
   ]
  },
  {
   "cell_type": "code",
   "execution_count": 32,
   "metadata": {},
   "outputs": [],
   "source": [
    "logs_pdf['date'] = logs_pdf['date'].apply(lambda x: '2'+x)"
   ]
  },
  {
   "cell_type": "markdown",
   "metadata": {},
   "source": [
    "### 2. Frequency"
   ]
  },
  {
   "cell_type": "code",
   "execution_count": 33,
   "metadata": {},
   "outputs": [
    {
     "name": "stderr",
     "output_type": "stream",
     "text": [
      "C:\\Users\\finno\\AppData\\Local\\Temp\\ipykernel_46800\\1231459958.py:7: FutureWarning: The default value of numeric_only in DataFrameGroupBy.mean is deprecated. In a future version, numeric_only will default to False. Either specify numeric_only or select only columns which should be valid for the function.\n",
      "  means = filt.groupby('date').mean().t_freq\n",
      "C:\\Users\\finno\\AppData\\Local\\Temp\\ipykernel_46800\\1231459958.py:8: FutureWarning: The default value of numeric_only in DataFrameGroupBy.std is deprecated. In a future version, numeric_only will default to False. Either specify numeric_only or select only columns which should be valid for the function.\n",
      "  stds = filt.groupby('date').std().t_freq\n"
     ]
    }
   ],
   "source": [
    "logs_pdf['t_diff'] = logs_pdf.groupby('date')['t'].diff() / 1000\n",
    "logs_pdf['t_diff'].replace(0, np.nan, inplace=True)\n",
    "logs_pdf['t_freq'] = 1 / logs_pdf['t_diff']\n",
    "filt = logs_pdf[logs_pdf['t_freq'] < 20]\n",
    "\n",
    "num = filt.groupby('date').count().t_freq\n",
    "means = filt.groupby('date').mean().t_freq\n",
    "stds = filt.groupby('date').std().t_freq"
   ]
  },
  {
   "cell_type": "code",
   "execution_count": 34,
   "metadata": {},
   "outputs": [
    {
     "data": {
      "text/html": [
       "<div>\n",
       "<style scoped>\n",
       "    .dataframe tbody tr th:only-of-type {\n",
       "        vertical-align: middle;\n",
       "    }\n",
       "\n",
       "    .dataframe tbody tr th {\n",
       "        vertical-align: top;\n",
       "    }\n",
       "\n",
       "    .dataframe thead th {\n",
       "        text-align: right;\n",
       "    }\n",
       "</style>\n",
       "<table border=\"1\" class=\"dataframe\">\n",
       "  <thead>\n",
       "    <tr style=\"text-align: right;\">\n",
       "      <th></th>\n",
       "      <th>index</th>\n",
       "      <th>Trial</th>\n",
       "      <th>frame_count</th>\n",
       "      <th>framerate_Hz_mean</th>\n",
       "      <th>framerate_Hz_std</th>\n",
       "    </tr>\n",
       "  </thead>\n",
       "  <tbody>\n",
       "    <tr>\n",
       "      <th>0</th>\n",
       "      <td>0</td>\n",
       "      <td>20240317_151817</td>\n",
       "      <td>594</td>\n",
       "      <td>13.122558</td>\n",
       "      <td>2.430740</td>\n",
       "    </tr>\n",
       "    <tr>\n",
       "      <th>1</th>\n",
       "      <td>1</td>\n",
       "      <td>20240317_151925</td>\n",
       "      <td>377</td>\n",
       "      <td>13.266013</td>\n",
       "      <td>2.377772</td>\n",
       "    </tr>\n",
       "    <tr>\n",
       "      <th>2</th>\n",
       "      <td>2</td>\n",
       "      <td>20240317_152030</td>\n",
       "      <td>409</td>\n",
       "      <td>13.718354</td>\n",
       "      <td>2.256002</td>\n",
       "    </tr>\n",
       "    <tr>\n",
       "      <th>3</th>\n",
       "      <td>3</td>\n",
       "      <td>20240317_152646</td>\n",
       "      <td>409</td>\n",
       "      <td>12.112244</td>\n",
       "      <td>2.481690</td>\n",
       "    </tr>\n",
       "    <tr>\n",
       "      <th>4</th>\n",
       "      <td>4</td>\n",
       "      <td>20240317_152755</td>\n",
       "      <td>292</td>\n",
       "      <td>12.508262</td>\n",
       "      <td>2.528227</td>\n",
       "    </tr>\n",
       "    <tr>\n",
       "      <th>5</th>\n",
       "      <td>5</td>\n",
       "      <td>20240317_152921</td>\n",
       "      <td>358</td>\n",
       "      <td>14.416990</td>\n",
       "      <td>1.594632</td>\n",
       "    </tr>\n",
       "    <tr>\n",
       "      <th>6</th>\n",
       "      <td>6</td>\n",
       "      <td>20240317_153008</td>\n",
       "      <td>343</td>\n",
       "      <td>14.512348</td>\n",
       "      <td>1.584013</td>\n",
       "    </tr>\n",
       "    <tr>\n",
       "      <th>7</th>\n",
       "      <td>7</td>\n",
       "      <td>20240317_153227</td>\n",
       "      <td>450</td>\n",
       "      <td>13.056029</td>\n",
       "      <td>2.608550</td>\n",
       "    </tr>\n",
       "    <tr>\n",
       "      <th>8</th>\n",
       "      <td>8</td>\n",
       "      <td>20240317_153332</td>\n",
       "      <td>525</td>\n",
       "      <td>12.312314</td>\n",
       "      <td>2.641638</td>\n",
       "    </tr>\n",
       "    <tr>\n",
       "      <th>9</th>\n",
       "      <td>9</td>\n",
       "      <td>20240317_153447</td>\n",
       "      <td>551</td>\n",
       "      <td>13.681167</td>\n",
       "      <td>2.242689</td>\n",
       "    </tr>\n",
       "  </tbody>\n",
       "</table>\n",
       "</div>"
      ],
      "text/plain": [
       "   index            Trial  frame_count  framerate_Hz_mean  framerate_Hz_std\n",
       "0      0  20240317_151817          594          13.122558          2.430740\n",
       "1      1  20240317_151925          377          13.266013          2.377772\n",
       "2      2  20240317_152030          409          13.718354          2.256002\n",
       "3      3  20240317_152646          409          12.112244          2.481690\n",
       "4      4  20240317_152755          292          12.508262          2.528227\n",
       "5      5  20240317_152921          358          14.416990          1.594632\n",
       "6      6  20240317_153008          343          14.512348          1.584013\n",
       "7      7  20240317_153227          450          13.056029          2.608550\n",
       "8      8  20240317_153332          525          12.312314          2.641638\n",
       "9      9  20240317_153447          551          13.681167          2.242689"
      ]
     },
     "execution_count": 34,
     "metadata": {},
     "output_type": "execute_result"
    }
   ],
   "source": [
    "temp = pd.merge(num, means, on='date').reset_index()\n",
    "df = pd.merge(temp, stds, on='date').reset_index()\n",
    "change = {\n",
    "    'date' : 'Trial',\n",
    "    't_freq_x' : 'frame_count',\n",
    "    't_freq_y' : 'framerate_Hz_mean',\n",
    "    't_freq' : 'framerate_Hz_std'\n",
    "}\n",
    "df.rename(columns=change, inplace=True)\n",
    "\n",
    "df"
   ]
  },
  {
   "cell_type": "code",
   "execution_count": 35,
   "metadata": {},
   "outputs": [
    {
     "data": {
      "text/plain": [
       "Text(0, 0.5, 'Frames')"
      ]
     },
     "execution_count": 35,
     "metadata": {},
     "output_type": "execute_result"
    },
    {
     "data": {
      "image/png": "[encoded data removed]",
      "text/plain": [
       "<Figure size 640x480 with 1 Axes>"
      ]
     },
     "metadata": {},
     "output_type": "display_data"
    }
   ],
   "source": [
    "category_data = {}\n",
    "for category in logs_pdf['date'].unique():\n",
    "    category_data[category] = logs_pdf[logs_pdf['date'] == category]['t_freq']\n",
    "\n",
    "# Plot stacked histograms on the same axes\n",
    "plt.hist(category_data.values(), bins=10, alpha=0.7, edgecolor='black', stacked=True)\n",
    "plt.legend(category_data.keys(), loc='upper center')\n",
    "plt.xlabel('Instantaneous Frequency (Hz)')\n",
    "plt.title('Processing Speed Summary')\n",
    "plt.ylabel('Frames')\n"
   ]
  },
  {
   "cell_type": "markdown",
   "metadata": {},
   "source": [
    "### 3. Frame Accuracy\n"
   ]
  },
  {
   "cell_type": "code",
   "execution_count": 36,
   "metadata": {},
   "outputs": [
    {
     "data": {
      "text/plain": [
       "143     20240317_151817\n",
       "144     20240317_151817\n",
       "145     20240317_151817\n",
       "146     20240317_151817\n",
       "147     20240317_151817\n",
       "             ...       \n",
       "5493    20240317_153447\n",
       "5494    20240317_153447\n",
       "5495    20240317_153447\n",
       "5496    20240317_153447\n",
       "5497    20240317_153447\n",
       "Name: date, Length: 4364, dtype: object"
      ]
     },
     "execution_count": 36,
     "metadata": {},
     "output_type": "execute_result"
    }
   ],
   "source": [
    "logs_pdf['date']"
   ]
  },
  {
   "cell_type": "code",
   "execution_count": null,
   "metadata": {},
   "outputs": [],
   "source": [
    "for date in np.unique(labels_pdf.date):\n",
    "    plt.plot(labels_pdf[labels_pdf['date']==date].t, labels_pdf[labels_pdf['date']==date].x, label='Label')\n",
    "    plt.plot(logs_pdf[logs_pdf['date']==date].t, logs_pdf[logs_pdf['date']==date].x,  label='MILTracker (Feb4)')\n",
    "    plt.scatter(labels_pdf[labels_pdf['date']==date].t, labels_pdf[labels_pdf['date']==date].x)\n",
    "    plt.scatter(logs_pdf[logs_pdf['date']==date].t, logs_pdf[logs_pdf['date']==date].x)\n",
    "    plt.ylabel('X coordinate')\n",
    "    plt.xlabel('Unix Timestamps')\n",
    "    plt.title(date)\n",
    "    plt.legend()\n",
    "    plt.show()"
   ]
  },
  {
   "cell_type": "code",
   "execution_count": null,
   "metadata": {},
   "outputs": [],
   "source": [
    "for date in np.unique(labels_pdf.date):\n",
    "    plt.plot(labels_pdf[labels_pdf['date']==date].t, labels_pdf[labels_pdf['date']==date].y, label='Label')\n",
    "    plt.plot(logs_pdf[logs_pdf['date']==date].t, logs_pdf[logs_pdf['date']==date].y,  label='MILTracker (Feb4)')\n",
    "    plt.scatter(labels_pdf[labels_pdf['date']==date].t, labels_pdf[labels_pdf['date']==date].y)\n",
    "    plt.scatter(logs_pdf[logs_pdf['date']==date].t, logs_pdf[logs_pdf['date']==date].y)\n",
    "    plt.ylabel('X coordinate')\n",
    "    plt.xlabel('Unix Timestamps')   \n",
    "    plt.title(date)\n",
    "    plt.legend()\n",
    "    plt.show()"
   ]
  },
  {
   "cell_type": "code",
   "execution_count": 38,
   "metadata": {},
   "outputs": [],
   "source": [
    "# Measure\n",
    "labels_int = interp1d(labels_pdf['t'], labels_pdf['x'], kind='linear', fill_value='extrapolate')\n",
    "logs_pdf['label_x'] = labels_int(logs_pdf['t'])\n",
    "logs_pdf['abs_diff'] = np.abs(logs_pdf['label_x'] - logs_pdf['x'])\n",
    "logs_pdf['correct'] = logs_pdf['abs_diff'] < ERR_THRESH\n",
    "\n",
    "logs_pdf['elapsed_min'] = logs_pdf.groupby('date')['t'].transform(lambda x: x - x.min()) /60 /1000\n",
    "df1 = logs_pdf.dropna(subset=('x')).groupby('date')['elapsed_min'].max()\n",
    "df2 = logs_pdf.dropna(subset=('x')).groupby('date')['correct'].mean() * 100\n",
    "df3 = logs_pdf.dropna(subset=('x')).groupby('date')['abs_diff'].mean()\n",
    "\n",
    "#plt.plot(logs_pdf['label_x'])\n",
    "#plt.plot(logs_pdf['x']) "
   ]
  },
  {
   "cell_type": "code",
   "execution_count": 39,
   "metadata": {},
   "outputs": [
    {
     "data": {
      "text/html": [
       "<div>\n",
       "<style scoped>\n",
       "    .dataframe tbody tr th:only-of-type {\n",
       "        vertical-align: middle;\n",
       "    }\n",
       "\n",
       "    .dataframe tbody tr th {\n",
       "        vertical-align: top;\n",
       "    }\n",
       "\n",
       "    .dataframe thead th {\n",
       "        text-align: right;\n",
       "    }\n",
       "</style>\n",
       "<table border=\"1\" class=\"dataframe\">\n",
       "  <thead>\n",
       "    <tr style=\"text-align: right;\">\n",
       "      <th></th>\n",
       "      <th>trial</th>\n",
       "      <th>duration_minutes</th>\n",
       "      <th>correct_frames_pct</th>\n",
       "      <th>average_pixel_err</th>\n",
       "    </tr>\n",
       "  </thead>\n",
       "  <tbody>\n",
       "    <tr>\n",
       "      <th>0</th>\n",
       "      <td>20240317_151817</td>\n",
       "      <td>0.79</td>\n",
       "      <td>98</td>\n",
       "      <td>7</td>\n",
       "    </tr>\n",
       "    <tr>\n",
       "      <th>1</th>\n",
       "      <td>20240317_151925</td>\n",
       "      <td>0.49</td>\n",
       "      <td>99</td>\n",
       "      <td>6</td>\n",
       "    </tr>\n",
       "    <tr>\n",
       "      <th>2</th>\n",
       "      <td>20240317_152030</td>\n",
       "      <td>0.56</td>\n",
       "      <td>95</td>\n",
       "      <td>17</td>\n",
       "    </tr>\n",
       "    <tr>\n",
       "      <th>3</th>\n",
       "      <td>20240317_152646</td>\n",
       "      <td>0.59</td>\n",
       "      <td>99</td>\n",
       "      <td>8</td>\n",
       "    </tr>\n",
       "    <tr>\n",
       "      <th>4</th>\n",
       "      <td>20240317_152755</td>\n",
       "      <td>0.41</td>\n",
       "      <td>98</td>\n",
       "      <td>10</td>\n",
       "    </tr>\n",
       "    <tr>\n",
       "      <th>5</th>\n",
       "      <td>20240317_152921</td>\n",
       "      <td>0.42</td>\n",
       "      <td>100</td>\n",
       "      <td>7</td>\n",
       "    </tr>\n",
       "    <tr>\n",
       "      <th>6</th>\n",
       "      <td>20240317_153008</td>\n",
       "      <td>0.41</td>\n",
       "      <td>99</td>\n",
       "      <td>8</td>\n",
       "    </tr>\n",
       "    <tr>\n",
       "      <th>7</th>\n",
       "      <td>20240317_153227</td>\n",
       "      <td>0.65</td>\n",
       "      <td>92</td>\n",
       "      <td>28</td>\n",
       "    </tr>\n",
       "    <tr>\n",
       "      <th>8</th>\n",
       "      <td>20240317_153332</td>\n",
       "      <td>0.79</td>\n",
       "      <td>99</td>\n",
       "      <td>9</td>\n",
       "    </tr>\n",
       "    <tr>\n",
       "      <th>9</th>\n",
       "      <td>20240317_153447</td>\n",
       "      <td>0.70</td>\n",
       "      <td>99</td>\n",
       "      <td>12</td>\n",
       "    </tr>\n",
       "  </tbody>\n",
       "</table>\n",
       "</div>"
      ],
      "text/plain": [
       "             trial  duration_minutes  correct_frames_pct  average_pixel_err\n",
       "0  20240317_151817              0.79                  98                  7\n",
       "1  20240317_151925              0.49                  99                  6\n",
       "2  20240317_152030              0.56                  95                 17\n",
       "3  20240317_152646              0.59                  99                  8\n",
       "4  20240317_152755              0.41                  98                 10\n",
       "5  20240317_152921              0.42                 100                  7\n",
       "6  20240317_153008              0.41                  99                  8\n",
       "7  20240317_153227              0.65                  92                 28\n",
       "8  20240317_153332              0.79                  99                  9\n",
       "9  20240317_153447              0.70                  99                 12"
      ]
     },
     "execution_count": 39,
     "metadata": {},
     "output_type": "execute_result"
    }
   ],
   "source": [
    "temp = pd.merge(df1, df2, on='date').reset_index()\n",
    "plot_df = pd.merge(temp, df3, on='date').reset_index()\n",
    "change = {\n",
    "    'date' : 'trial',\n",
    "    'elapsed_min' : 'duration_minutes',\n",
    "    'correct' : 'correct_frames_pct',\n",
    "    'abs_diff' : 'average_pixel_err'\n",
    "}\n",
    "plot_df.rename(columns=change, inplace=True)\n",
    "plot_df['duration_minutes'] = np.round(plot_df['duration_minutes'], 2)\n",
    "plot_df['correct_frames_pct'] = plot_df['correct_frames_pct'].astype(int)\n",
    "plot_df['average_pixel_err'] = plot_df['average_pixel_err'].astype(int)\n",
    "plot_df[['trial', 'duration_minutes', 'correct_frames_pct', 'average_pixel_err']]"
   ]
  },
  {
   "cell_type": "code",
   "execution_count": 40,
   "metadata": {},
   "outputs": [],
   "source": [
    "plot_df[['trial', 'duration_minutes', 'correct_frames_pct', 'average_pixel_err']].to_csv('testing2.csv')"
   ]
  }
 ],
 "metadata": {
  "kernelspec": {
   "display_name": "Python 3",
   "language": "python",
   "name": "python3"
  },
  "language_info": {
   "codemirror_mode": {
    "name": "ipython",
    "version": 3
   },
   "file_extension": ".py",
   "mimetype": "text/x-python",
   "name": "python",
   "nbconvert_exporter": "python",
   "pygments_lexer": "ipython3",
   "version": "3.11.1"
  }
 },
 "nbformat": 4,
 "nbformat_minor": 2
}
