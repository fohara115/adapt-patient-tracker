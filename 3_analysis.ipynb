{
 "cells": [
  {
   "cell_type": "markdown",
   "metadata": {},
   "source": [
    "## Analysis of Labels Versus Tracker Outputs\n",
    "\n",
    "Feb 4"
   ]
  },
  {
   "cell_type": "code",
   "execution_count": 94,
   "metadata": {},
   "outputs": [],
   "source": [
    "import os\n",
    "import pandas as pd\n",
    "import numpy as np\n",
    "import matplotlib.pyplot as plt"
   ]
  },
  {
   "cell_type": "code",
   "execution_count": 15,
   "metadata": {},
   "outputs": [],
   "source": [
    "# Configure analysis\n",
    "\n",
    "root = 'D:/bme/'\n",
    "labels_dir = 'labels/coords/'\n",
    "logs_dir = 'logs/'"
   ]
  },
  {
   "cell_type": "code",
   "execution_count": null,
   "metadata": {},
   "outputs": [],
   "source": [
    "# Load coordinates into pandas\n",
    "\n",
    "labels_df = pd.DataFrame()\n",
    "\n",
    "for filename in os.listdir(root + labels_dir):\n",
    "    if filename.endswith(\".txt\"): \n",
    "        file_path = os.path.join(root + labels_dir, filename)\n",
    "        \n",
    "        current_df = pd.read_csv(file_path, skiprows=1, header=None, names=['t', 'x', 'y', 'd'])\n",
    "        current_df['date'] = filename[6:-4]\n",
    "        \n",
    "        labels_df = labels_df.append(current_df, ignore_index=True)\n",
    "labels_df['t'] = pd.to_numeric(labels_df['t'], errors='coerce')\n",
    "labels_df['x'] = pd.to_numeric(labels_df['x'], errors='coerce')\n",
    "labels_df['y'] = pd.to_numeric(labels_df['y'], errors='coerce')\n",
    "labels_df['d'] = pd.to_numeric(labels_df['d'], errors='coerce')\n",
    "\n",
    "\n",
    "logs_df = pd.DataFrame()\n",
    "for filename in os.listdir(root + logs_dir):\n",
    "    if filename.endswith(\".txt\"): \n",
    "        file_path = os.path.join(root + logs_dir, filename)\n",
    "        \n",
    "        current_df = pd.read_csv(file_path, skiprows=1, header=None, names=['t', 'x', 'y', 'd'])\n",
    "        current_df['date'] = filename[8:-4]\n",
    "        \n",
    "        logs_df = logs_df.append(current_df, ignore_index=True)\n",
    "logs_df['t'] = pd.to_numeric(logs_df['t'], errors='coerce')\n",
    "logs_df['x'] = pd.to_numeric(logs_df['x'], errors='coerce')\n",
    "logs_df['y'] = pd.to_numeric(logs_df['y'], errors='coerce')\n",
    "logs_df['d'] = pd.to_numeric(logs_df['d'], errors='coerce')"
   ]
  },
  {
   "cell_type": "code",
   "execution_count": 33,
   "metadata": {},
   "outputs": [
    {
     "name": "stdout",
     "output_type": "stream",
     "text": [
      "(7244, 5)\n",
      "(7152, 5)\n"
     ]
    }
   ],
   "source": [
    "# Apply simple preprocessing\n",
    "logs_pdf = logs_df[logs_df['date'] != '20231027_140520']\n",
    "labels_pdf = labels_df[labels_df['date'] != '20231027_140520']\n",
    "print(logs_df.shape)\n",
    "print(logs_pdf.shape)"
   ]
  },
  {
   "cell_type": "code",
   "execution_count": 76,
   "metadata": {},
   "outputs": [
    {
     "data": {
      "text/plain": [
       "date\n",
       "20231027_140116    20.488717\n",
       "20231027_140213    12.597683\n",
       "20231027_140554     4.353336\n",
       "20231027_140653     4.430802\n",
       "20231027_140747    14.852130\n",
       "20231027_140829    17.032349\n",
       "20231027_140914     8.732326\n",
       "20231027_140948     8.551399\n",
       "20231124_163447    16.770039\n",
       "20231124_164148    16.824404\n",
       "20231124_164709    20.556322\n",
       "20231201_152420    15.605705\n",
       "Name: t_freq, dtype: float64"
      ]
     },
     "execution_count": 76,
     "metadata": {},
     "output_type": "execute_result"
    }
   ],
   "source": [
    "logs_pdf.groupby('date').mean().t_freq"
   ]
  },
  {
   "cell_type": "code",
   "execution_count": null,
   "metadata": {},
   "outputs": [],
   "source": [
    "logs_pdf['t_diff'] = logs_pdf.groupby('date')['t'].diff() / 1000\n",
    "logs_pdf['t_diff'].replace(0, np.nan, inplace=True)\n",
    "logs_pdf['t_freq'] = 1 / logs_pdf['t_diff']\n",
    "\n",
    "num = logs_pdf.groupby('date').count().t_freq\n",
    "means = logs_pdf.groupby('date').mean().t_freq\n",
    "stds = logs_pdf.groupby('date').std().t_freq"
   ]
  },
  {
   "cell_type": "code",
   "execution_count": 93,
   "metadata": {},
   "outputs": [
    {
     "data": {
      "text/html": [
       "<div>\n",
       "<style scoped>\n",
       "    .dataframe tbody tr th:only-of-type {\n",
       "        vertical-align: middle;\n",
       "    }\n",
       "\n",
       "    .dataframe tbody tr th {\n",
       "        vertical-align: top;\n",
       "    }\n",
       "\n",
       "    .dataframe thead th {\n",
       "        text-align: right;\n",
       "    }\n",
       "</style>\n",
       "<table border=\"1\" class=\"dataframe\">\n",
       "  <thead>\n",
       "    <tr style=\"text-align: right;\">\n",
       "      <th></th>\n",
       "      <th>index</th>\n",
       "      <th>Trial</th>\n",
       "      <th>frame_count</th>\n",
       "      <th>framerate_Hz_mean</th>\n",
       "      <th>framerate_Hz_std</th>\n",
       "    </tr>\n",
       "  </thead>\n",
       "  <tbody>\n",
       "    <tr>\n",
       "      <th>0</th>\n",
       "      <td>0</td>\n",
       "      <td>20231027_140116</td>\n",
       "      <td>366</td>\n",
       "      <td>20.488717</td>\n",
       "      <td>12.413439</td>\n",
       "    </tr>\n",
       "    <tr>\n",
       "      <th>1</th>\n",
       "      <td>1</td>\n",
       "      <td>20231027_140213</td>\n",
       "      <td>186</td>\n",
       "      <td>12.597683</td>\n",
       "      <td>11.823399</td>\n",
       "    </tr>\n",
       "    <tr>\n",
       "      <th>2</th>\n",
       "      <td>2</td>\n",
       "      <td>20231027_140554</td>\n",
       "      <td>158</td>\n",
       "      <td>4.353336</td>\n",
       "      <td>0.555944</td>\n",
       "    </tr>\n",
       "    <tr>\n",
       "      <th>3</th>\n",
       "      <td>3</td>\n",
       "      <td>20231027_140653</td>\n",
       "      <td>40</td>\n",
       "      <td>4.430802</td>\n",
       "      <td>0.543818</td>\n",
       "    </tr>\n",
       "    <tr>\n",
       "      <th>4</th>\n",
       "      <td>4</td>\n",
       "      <td>20231027_140747</td>\n",
       "      <td>88</td>\n",
       "      <td>14.852130</td>\n",
       "      <td>12.500275</td>\n",
       "    </tr>\n",
       "    <tr>\n",
       "      <th>5</th>\n",
       "      <td>5</td>\n",
       "      <td>20231027_140829</td>\n",
       "      <td>74</td>\n",
       "      <td>17.032349</td>\n",
       "      <td>12.713160</td>\n",
       "    </tr>\n",
       "    <tr>\n",
       "      <th>6</th>\n",
       "      <td>6</td>\n",
       "      <td>20231027_140914</td>\n",
       "      <td>58</td>\n",
       "      <td>8.732326</td>\n",
       "      <td>9.411275</td>\n",
       "    </tr>\n",
       "    <tr>\n",
       "      <th>7</th>\n",
       "      <td>7</td>\n",
       "      <td>20231027_140948</td>\n",
       "      <td>73</td>\n",
       "      <td>8.551399</td>\n",
       "      <td>9.604240</td>\n",
       "    </tr>\n",
       "    <tr>\n",
       "      <th>8</th>\n",
       "      <td>8</td>\n",
       "      <td>20231124_163447</td>\n",
       "      <td>1786</td>\n",
       "      <td>16.770039</td>\n",
       "      <td>12.362808</td>\n",
       "    </tr>\n",
       "    <tr>\n",
       "      <th>9</th>\n",
       "      <td>9</td>\n",
       "      <td>20231124_164148</td>\n",
       "      <td>1873</td>\n",
       "      <td>16.824404</td>\n",
       "      <td>12.525101</td>\n",
       "    </tr>\n",
       "    <tr>\n",
       "      <th>10</th>\n",
       "      <td>10</td>\n",
       "      <td>20231124_164709</td>\n",
       "      <td>1024</td>\n",
       "      <td>20.556322</td>\n",
       "      <td>12.123385</td>\n",
       "    </tr>\n",
       "    <tr>\n",
       "      <th>11</th>\n",
       "      <td>11</td>\n",
       "      <td>20231201_152420</td>\n",
       "      <td>1413</td>\n",
       "      <td>15.605705</td>\n",
       "      <td>12.479424</td>\n",
       "    </tr>\n",
       "  </tbody>\n",
       "</table>\n",
       "</div>"
      ],
      "text/plain": [
       "    index            Trial  frame_count  framerate_Hz_mean  framerate_Hz_std\n",
       "0       0  20231027_140116          366          20.488717         12.413439\n",
       "1       1  20231027_140213          186          12.597683         11.823399\n",
       "2       2  20231027_140554          158           4.353336          0.555944\n",
       "3       3  20231027_140653           40           4.430802          0.543818\n",
       "4       4  20231027_140747           88          14.852130         12.500275\n",
       "5       5  20231027_140829           74          17.032349         12.713160\n",
       "6       6  20231027_140914           58           8.732326          9.411275\n",
       "7       7  20231027_140948           73           8.551399          9.604240\n",
       "8       8  20231124_163447         1786          16.770039         12.362808\n",
       "9       9  20231124_164148         1873          16.824404         12.525101\n",
       "10     10  20231124_164709         1024          20.556322         12.123385\n",
       "11     11  20231201_152420         1413          15.605705         12.479424"
      ]
     },
     "execution_count": 93,
     "metadata": {},
     "output_type": "execute_result"
    }
   ],
   "source": [
    "temp = pd.merge(num, means, on='date').reset_index()\n",
    "df = pd.merge(temp, stds, on='date').reset_index()\n",
    "change = {\n",
    "    'date' : 'Trial',\n",
    "    't_freq_x' : 'frame_count',\n",
    "    't_freq_y' : 'framerate_Hz_mean',\n",
    "    't_freq' : 'framerate_Hz_std'\n",
    "}\n",
    "df.rename(columns=change, inplace=True)\n",
    "\n",
    "df"
   ]
  },
  {
   "cell_type": "code",
   "execution_count": null,
   "metadata": {},
   "outputs": [],
   "source": [
    "category_data = {}\n",
    "for category in df['date'].unique():\n",
    "    category_data[category] = logs_pdf[logs_pdf['date'] == category]['t_freq']\n",
    "\n",
    "# Plot stacked histograms on the same axes\n",
    "plt.hist(category_data.values(), bins=10, alpha=0.7, label=category_data.keys(), edgecolor='black', stacked=True)\n"
   ]
  },
  {
   "cell_type": "code",
   "execution_count": 96,
   "metadata": {},
   "outputs": [
    {
     "data": {
      "text/plain": [
       "array([[<AxesSubplot: title={'center': '20231027_140116'}>,\n",
       "        <AxesSubplot: title={'center': '20231027_140213'}>,\n",
       "        <AxesSubplot: title={'center': '20231027_140554'}>],\n",
       "       [<AxesSubplot: title={'center': '20231027_140653'}>,\n",
       "        <AxesSubplot: title={'center': '20231027_140747'}>,\n",
       "        <AxesSubplot: title={'center': '20231027_140829'}>],\n",
       "       [<AxesSubplot: title={'center': '20231027_140914'}>,\n",
       "        <AxesSubplot: title={'center': '20231027_140948'}>,\n",
       "        <AxesSubplot: title={'center': '20231124_163447'}>],\n",
       "       [<AxesSubplot: title={'center': '20231124_164148'}>,\n",
       "        <AxesSubplot: title={'center': '20231124_164709'}>,\n",
       "        <AxesSubplot: title={'center': '20231201_152420'}>]], dtype=object)"
      ]
     },
     "execution_count": 96,
     "metadata": {},
     "output_type": "execute_result"
    },
    {
     "data": {
      "image/png": "[encoded data removed]",
      "text/plain": [
       "<Figure size 640x480 with 12 Axes>"
      ]
     },
     "metadata": {},
     "output_type": "display_data"
    }
   ],
   "source": [
    "logs_pdf.hist(column='t_freq', by='date', stacked=True, bins=10, edgecolor='black')"
   ]
  },
  {
   "cell_type": "code",
   "execution_count": 72,
   "metadata": {},
   "outputs": [
    {
     "data": {
      "text/html": [
       "<div>\n",
       "<style scoped>\n",
       "    .dataframe tbody tr th:only-of-type {\n",
       "        vertical-align: middle;\n",
       "    }\n",
       "\n",
       "    .dataframe tbody tr th {\n",
       "        vertical-align: top;\n",
       "    }\n",
       "\n",
       "    .dataframe thead th {\n",
       "        text-align: right;\n",
       "    }\n",
       "</style>\n",
       "<table border=\"1\" class=\"dataframe\">\n",
       "  <thead>\n",
       "    <tr style=\"text-align: right;\">\n",
       "      <th></th>\n",
       "      <th>date</th>\n",
       "      <th>t_freq_mean</th>\n",
       "      <th>t_freq_std</th>\n",
       "    </tr>\n",
       "  </thead>\n",
       "  <tbody>\n",
       "    <tr>\n",
       "      <th>0</th>\n",
       "      <td>20231027_140116</td>\n",
       "      <td>NaN</td>\n",
       "      <td>NaN</td>\n",
       "    </tr>\n",
       "    <tr>\n",
       "      <th>1</th>\n",
       "      <td>20231027_140213</td>\n",
       "      <td>NaN</td>\n",
       "      <td>NaN</td>\n",
       "    </tr>\n",
       "    <tr>\n",
       "      <th>2</th>\n",
       "      <td>20231027_140554</td>\n",
       "      <td>NaN</td>\n",
       "      <td>NaN</td>\n",
       "    </tr>\n",
       "    <tr>\n",
       "      <th>3</th>\n",
       "      <td>20231027_140653</td>\n",
       "      <td>NaN</td>\n",
       "      <td>NaN</td>\n",
       "    </tr>\n",
       "    <tr>\n",
       "      <th>4</th>\n",
       "      <td>20231027_140747</td>\n",
       "      <td>NaN</td>\n",
       "      <td>NaN</td>\n",
       "    </tr>\n",
       "    <tr>\n",
       "      <th>5</th>\n",
       "      <td>20231027_140829</td>\n",
       "      <td>NaN</td>\n",
       "      <td>NaN</td>\n",
       "    </tr>\n",
       "    <tr>\n",
       "      <th>6</th>\n",
       "      <td>20231027_140914</td>\n",
       "      <td>NaN</td>\n",
       "      <td>NaN</td>\n",
       "    </tr>\n",
       "    <tr>\n",
       "      <th>7</th>\n",
       "      <td>20231027_140948</td>\n",
       "      <td>NaN</td>\n",
       "      <td>NaN</td>\n",
       "    </tr>\n",
       "    <tr>\n",
       "      <th>8</th>\n",
       "      <td>20231124_163447</td>\n",
       "      <td>NaN</td>\n",
       "      <td>NaN</td>\n",
       "    </tr>\n",
       "    <tr>\n",
       "      <th>9</th>\n",
       "      <td>20231124_164148</td>\n",
       "      <td>NaN</td>\n",
       "      <td>NaN</td>\n",
       "    </tr>\n",
       "    <tr>\n",
       "      <th>10</th>\n",
       "      <td>20231124_164709</td>\n",
       "      <td>NaN</td>\n",
       "      <td>NaN</td>\n",
       "    </tr>\n",
       "    <tr>\n",
       "      <th>11</th>\n",
       "      <td>20231201_152420</td>\n",
       "      <td>NaN</td>\n",
       "      <td>NaN</td>\n",
       "    </tr>\n",
       "  </tbody>\n",
       "</table>\n",
       "</div>"
      ],
      "text/plain": [
       "               date  t_freq_mean  t_freq_std\n",
       "0   20231027_140116          NaN         NaN\n",
       "1   20231027_140213          NaN         NaN\n",
       "2   20231027_140554          NaN         NaN\n",
       "3   20231027_140653          NaN         NaN\n",
       "4   20231027_140747          NaN         NaN\n",
       "5   20231027_140829          NaN         NaN\n",
       "6   20231027_140914          NaN         NaN\n",
       "7   20231027_140948          NaN         NaN\n",
       "8   20231124_163447          NaN         NaN\n",
       "9   20231124_164148          NaN         NaN\n",
       "10  20231124_164709          NaN         NaN\n",
       "11  20231201_152420          NaN         NaN"
      ]
     },
     "execution_count": 72,
     "metadata": {},
     "output_type": "execute_result"
    }
   ],
   "source": [
    "logs_pdf.groupby('date').mean().reset_index()[['date', 't_freq_mean', 't_freq_std']]"
   ]
  },
  {
   "cell_type": "code",
   "execution_count": 40,
   "metadata": {},
   "outputs": [
    {
     "name": "stderr",
     "output_type": "stream",
     "text": [
      "C:\\Users\\finno\\AppData\\Local\\Temp\\ipykernel_33704\\2275564537.py:2: SettingWithCopyWarning: \n",
      "A value is trying to be set on a copy of a slice from a DataFrame.\n",
      "Try using .loc[row_indexer,col_indexer] = value instead\n",
      "\n",
      "See the caveats in the documentation: https://pandas.pydata.org/pandas-docs/stable/user_guide/indexing.html#returning-a-view-versus-a-copy\n",
      "  logs_pdf['frequency_hz'] = 1 / (logs_pdf.groupby('date')['t'].diff().mean())\n"
     ]
    },
    {
     "data": {
      "text/plain": [
       "array(['20231027_140116', '20231027_140213', '20231027_140554',\n",
       "       '20231027_140653', '20231027_140747', '20231027_140829',\n",
       "       '20231027_140914', '20231027_140948', '20231124_163447',\n",
       "       '20231124_164148', '20231124_164709', '20231201_152420'],\n",
       "      dtype=object)"
      ]
     },
     "execution_count": 40,
     "metadata": {},
     "output_type": "execute_result"
    }
   ],
   "source": [
    "# Get frequencies\n",
    "logs_pdf['frequency_hz'] = 1 / (logs_pdf.groupby('date')['t'].diff().mean())\n",
    "\n",
    "np.unique(logs_pdf['date'] )"
   ]
  }
 ],
 "metadata": {
  "kernelspec": {
   "display_name": "Python 3",
   "language": "python",
   "name": "python3"
  },
  "language_info": {
   "codemirror_mode": {
    "name": "ipython",
    "version": 3
   },
   "file_extension": ".py",
   "mimetype": "text/x-python",
   "name": "python",
   "nbconvert_exporter": "python",
   "pygments_lexer": "ipython3",
   "version": "3.11.1"
  }
 },
 "nbformat": 4,
 "nbformat_minor": 2
}
